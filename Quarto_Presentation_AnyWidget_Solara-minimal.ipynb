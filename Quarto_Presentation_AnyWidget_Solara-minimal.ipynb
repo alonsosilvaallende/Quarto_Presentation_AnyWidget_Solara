{
 "cells": [
  {
   "cell_type": "raw",
   "id": "2635c375-d7f5-4f37-a4bd-17da7cb82f94",
   "metadata": {},
   "source": [
    "---\n",
    "title: \"Solara+AnyWidget\"\n",
    "author: \"Alonso Silva\"\n",
    "format: \n",
    "  revealjs:\n",
    "    toc: true\n",
    "    toc-depth: 1\n",
    "    slide-number: true\n",
    "---"
   ]
  },
  {
   "cell_type": "markdown",
   "id": "ae66937e-3025-4a5e-9b34-c619ff78cd17",
   "metadata": {
    "editable": true,
    "slideshow": {
     "slide_type": ""
    },
    "tags": []
   },
   "source": [
    "# Streamlit: Installation"
   ]
  },
  {
   "cell_type": "markdown",
   "id": "370ab0ee-bcdb-42d3-81c8-858354e7a8e0",
   "metadata": {},
   "source": [
    "## Installation\n",
    "\n",
    "```{.bash code-line-numbers=\"false\"}\n",
    "pip install streamlit\n",
    "```\n",
    "\n",
    "To run it:\n",
    "```{.bash code-line-numbers=\"false\"}\n",
    "streamlit run app.py\n",
    "```"
   ]
  },
  {
   "cell_type": "markdown",
   "id": "209af266-8efe-421e-a474-da7c0d9d0300",
   "metadata": {},
   "source": [
    "# Streamlit: Basic App"
   ]
  },
  {
   "cell_type": "markdown",
   "id": "0083188c-6949-4643-a183-4b4a8c666c74",
   "metadata": {
    "editable": true,
    "slideshow": {
     "slide_type": ""
    },
    "tags": []
   },
   "source": [
    "## Streamlit: Basic App\n",
    "\n",
    "```{.python}\n",
    "import streamlit as st\n",
    "\n",
    "st.title(\"Streamlit app\")\n",
    "st.text(\"This is a Streamlit app\")\n",
    "if st.button(\"Click me!\"):\n",
    "    st.text(\"Hey there!\")\n",
    "```"
   ]
  },
  {
   "cell_type": "code",
   "execution_count": 28,
   "id": "70001ff1-1731-4c13-8da0-f4cc978870b6",
   "metadata": {
    "editable": true,
    "execution": {
     "iopub.execute_input": "2024-05-17T19:25:27.862327Z",
     "iopub.status.busy": "2024-05-17T19:25:27.861670Z",
     "iopub.status.idle": "2024-05-17T19:25:27.905032Z",
     "shell.execute_reply": "2024-05-17T19:25:27.903973Z",
     "shell.execute_reply.started": "2024-05-17T19:25:27.862264Z"
    },
    "slideshow": {
     "slide_type": ""
    },
    "tags": []
   },
   "outputs": [
    {
     "data": {
      "application/vnd.jupyter.widget-view+json": {
       "model_id": "907c29396e354904a948d5409044e028",
       "version_major": 2,
       "version_minor": 0
      },
      "text/html": [
       "Cannot show widget. You probably want to rerun the code cell above (<i>Click in the code cell, and press Shift+Enter <kbd>⇧</kbd>+<kbd>↩</kbd></i>)."
      ],
      "text/plain": [
       "Cannot show ipywidgets in text"
      ]
     },
     "metadata": {},
     "output_type": "display_data"
    }
   ],
   "source": [
    "# #| echo: false\n",
    "import solara as sl\n",
    "\n",
    "_css = \"\"\"\n",
    "    .mybutton {\n",
    "        background-color:lightgreen!important;\n",
    "        color:dodgerblue!important;\n",
    "    }\n",
    "    .mytext {\n",
    "        font-family:Lucida Handwriting; \n",
    "        color:indianred;\n",
    "    }\n",
    "\"\"\"\n",
    "\n",
    "@sl.component\n",
    "def Page():\n",
    "    with sl.Column(margin=12):\n",
    "        sl.Markdown(\"# Solara app\")\n",
    "        sl.Text(\"This is a Solara app\")\n",
    "        clicked = sl.use_reactive(False)\n",
    "        sl.Style(_css)\n",
    "        with sl.Row():\n",
    "            sl.Button(\n",
    "                \"Click me!\", on_click=lambda: clicked.set(True), classes=[\"mybutton\"]\n",
    "            )\n",
    "        if clicked.value:\n",
    "            sl.Text(\n",
    "                \"Hey there!\",\n",
    "                classes=[\"mytext\"],\n",
    "            )\n",
    "\n",
    "Page()"
   ]
  },
  {
   "cell_type": "markdown",
   "id": "30f1ae18-af9f-42c2-b099-ba54954d3ed9",
   "metadata": {
    "editable": true,
    "slideshow": {
     "slide_type": ""
    },
    "tags": []
   },
   "source": [
    "# Streamlit: State Management"
   ]
  },
  {
   "cell_type": "markdown",
   "id": "4da7de68-c1f1-4c51-a85d-3f97776d163b",
   "metadata": {},
   "source": [
    "## Streamlit: State Management\n",
    "\n",
    "```{.python}\n",
    "import streamlit as st\n",
    "\n",
    "st.title(\"Streamlit app\")\n",
    "st.text(\"This is a Streamlit app\")\n",
    "if st.button(\"Click me!\"):\n",
    "    st.write(\"Hey there!\")\n",
    "st.button(\"Another button\")\n",
    "```"
   ]
  },
  {
   "cell_type": "markdown",
   "id": "5d9d1425-2021-49fc-9231-fba9282ea0b8",
   "metadata": {},
   "source": [
    "## Streamlit: State Management\n",
    "\n",
    "```{.python}\n",
    "import streamlit as st\n",
    "\n",
    "st.title(\"Streamlit app\")\n",
    "st.text(\"This is a Streamlit app\")\n",
    "if 'clicked' not in st.session_state:\n",
    "    st.session_state.clicked = False\n",
    "def on_click():\n",
    "    st.session_state.clicked = True\n",
    "st.button('Click me!', on_click=on_click)\n",
    "if st.session_state.clicked:\n",
    "    st.write('Hey there!')\n",
    "st.button(\"Another button\")\n",
    "```"
   ]
  },
  {
   "cell_type": "markdown",
   "id": "16c8c13f-5ae0-4d11-abb4-414eaaa93940",
   "metadata": {},
   "source": [
    "## Streamlit: State Management\n",
    "\n",
    "```{.python code-line-numbers=\"12\"}\n",
    "import streamlit as st\n",
    "\n",
    "st.title(\"Streamlit app\")\n",
    "st.text(\"This is a Streamlit app\")\n",
    "if 'clicked' not in st.session_state:\n",
    "    st.session_state.clicked = False\n",
    "def on_click():\n",
    "    st.session_state.clicked = True\n",
    "st.button('Click me!', on_click=on_click)\n",
    "if st.session_state.clicked:\n",
    "    st.write('Hey there!')\n",
    "st.button(\"Click me!\")\n",
    "```"
   ]
  },
  {
   "cell_type": "markdown",
   "id": "109dea70-1132-4bf9-abfc-204ea5733a97",
   "metadata": {},
   "source": [
    "## Streamlit: State Management\n",
    "\n",
    "```{.python code-line-numbers=\"12\"}\n",
    "import streamlit as st\n",
    "\n",
    "st.title(\"Streamlit app\")\n",
    "st.text(\"This is a Streamlit app\")\n",
    "if 'clicked' not in st.session_state:\n",
    "    st.session_state.clicked = False\n",
    "def on_click():\n",
    "    st.session_state.clicked = True\n",
    "st.button('Click me!', on_click=on_click)\n",
    "if st.session_state.clicked:\n",
    "    st.write('Hey there!')\n",
    "st.button(\"Click me!\", key=\"2nd\")\n",
    "```"
   ]
  },
  {
   "cell_type": "markdown",
   "id": "08416f11-1f29-4314-91de-83b3f34201eb",
   "metadata": {},
   "source": [
    "# Streamlit: Reusable Components"
   ]
  },
  {
   "cell_type": "markdown",
   "id": "a267dc12-a4d3-45c1-adc7-6b736c83757f",
   "metadata": {},
   "source": [
    "## Streamlit: Reusable Components\n",
    "\n",
    "```{.python}\n",
    "import streamlit as st\n",
    "\n",
    "def process():\n",
    "    options = (\"Default\", \"Option A\", \"Option B\", \"Option C\")\n",
    "    option = \"Default\"\n",
    "    option = st.selectbox(option, options)\n",
    "    st.write(f\"Result for {option}\")\n",
    "\n",
    "cols = st.columns(3)\n",
    "with cols[0]:\n",
    "    process()\n",
    "with cols[1]:\n",
    "    process()\n",
    "with cols[2]:\n",
    "    process()\n",
    "```"
   ]
  },
  {
   "cell_type": "markdown",
   "id": "e19c780e-4c53-484b-b41d-75efc6be70c6",
   "metadata": {},
   "source": [
    "## Streamlit: Reusable Components\n",
    "\n",
    "```{.python}\n",
    "import streamlit as st\n",
    "import time\n",
    "\n",
    "def process(key):\n",
    "    options = (\"Default\", \"Option A\", \"Option B\", \"Option C\")\n",
    "    option = \"Default\"\n",
    "    option = st.selectbox(option, options, key=key)\n",
    "    if option in (\"Option A\", \"Option B\", \"Option C\"):\n",
    "        time.sleep(3)\n",
    "        st.write(f\"Result for {option}\")\n",
    "\n",
    "cols = st.columns(3)\n",
    "with cols[0]:\n",
    "    process(0)\n",
    "with cols[1]:\n",
    "    process(1)\n",
    "with cols[2]:\n",
    "    process(2)\n",
    "```"
   ]
  },
  {
   "cell_type": "markdown",
   "id": "6b1e1baf-7c23-404f-882d-9fae403247fa",
   "metadata": {},
   "source": [
    "## Streamlit: Reusable Components\n",
    "\n",
    "```{.python}\n",
    "import streamlit as st\n",
    "import time\n",
    "\n",
    "@st.experimental_fragment\n",
    "def process(key):\n",
    "    options = (\"Default\", \"Option A\", \"Option B\", \"Option C\")\n",
    "    option = \"Default\"\n",
    "    option = st.selectbox(option, options, key=key)\n",
    "    if option in (\"Option A\", \"Option B\", \"Option C\"):\n",
    "        time.sleep(3)\n",
    "        st.write(f\"Result for {option}\")\n",
    "cols = st.columns(3)\n",
    "with cols[0]:\n",
    "    process(0)\n",
    "with cols[1]:\n",
    "    process(1)\n",
    "with cols[2]:\n",
    "    process(2)\n",
    "```"
   ]
  },
  {
   "cell_type": "markdown",
   "id": "674ca38e-c3f9-4b8e-abf7-d4fb25eb60cd",
   "metadata": {},
   "source": [
    "# Streamlit: Customization"
   ]
  },
  {
   "cell_type": "markdown",
   "id": "9c3051ae-c105-41c8-9526-118de75a6780",
   "metadata": {},
   "source": [
    "## Streamlit: Customization\n",
    "```{.python code-line-numbers=\"5\"}\n",
    "import streamlit as st\n",
    "\n",
    "st.title(\"Streamlit app\")\n",
    "st.text(\"This is a Streamlit app\")\n",
    "if st.button(\"Click me!\", type=\"primary\"):\n",
    "    st.text(\"Hey there!\")\n",
    "```"
   ]
  },
  {
   "cell_type": "markdown",
   "id": "a9a0133c-be77-4b16-89f5-e2751b29c8f4",
   "metadata": {
    "editable": true,
    "slideshow": {
     "slide_type": ""
    },
    "tags": []
   },
   "source": [
    "## Streamlit: Customization\n",
    "\n",
    "Supported colors: blue, green, orange, red, violet, gray/grey, rainbow.\n",
    "\n",
    "```{.python code-line-numbers=\"5\"}\n",
    "import streamlit as st\n",
    "\n",
    "st.title(\"Streamlit App\")\n",
    "st.text(\"This is a streamlit app\")\n",
    "if st.button(\":blue-background[Click me!]\"):\n",
    "    st.text(\"Hey there!\")\n",
    "```"
   ]
  },
  {
   "cell_type": "markdown",
   "id": "b3e12ec7-cfb0-4e25-869e-d72ec526ce2d",
   "metadata": {},
   "source": [
    "## Streamlit: Customization\n",
    "\n",
    "[Theming](https://docs.streamlit.io/develop/concepts/configuration/theming)\n",
    "\n",
    "* Make a file ```.streamlit/config.toml```\n",
    "```\n",
    "[theme]\n",
    "primaryColor=\"lightgreen\"\n",
    "textColor=\"indianred\"\n",
    "font=\"Lucida Handwriting\"\n",
    "```\n"
   ]
  },
  {
   "attachments": {},
   "cell_type": "markdown",
   "id": "4619f2b0-9fc7-49a6-bbcb-44e9db79a926",
   "metadata": {
    "editable": true,
    "slideshow": {
     "slide_type": ""
    },
    "tags": []
   },
   "source": [
    "## Streamlit: Customization\n",
    "\n",
    "[unsafe_allow_html](https://discuss.streamlit.io/t/unsafe-allow-html-in-code-block/54093/2)\n",
    "\n",
    "```{.python}\n",
    "import streamlit as st\n",
    "\n",
    "_css = \"\"\"<style>\n",
    "    div.row-widget.stButton>button {\n",
    "        background-color:lightgreen!important;\n",
    "        color:dodgerblue!important;\n",
    "    }\n",
    "    div.stTextLabelWrapper:nth-of-type(1) {\n",
    "        font-family:Lucida Handwriting;\n",
    "        color:indianred;\n",
    "    }</style>\n",
    "\"\"\"\n",
    "st.markdown(_css, unsafe_allow_html=True)\n",
    "\n",
    "st.title(\"Streamlit app\")\n",
    "st.text(\"This is a Streamlit app\")\n",
    "if st.button(\"Click me!\"):\n",
    "    st.text(\"Hey there!\")\n",
    "```"
   ]
  },
  {
   "cell_type": "markdown",
   "id": "aa13eb52-e50e-4ade-8889-4cf3b2a49e11",
   "metadata": {},
   "source": [
    "# Gradio: Installation"
   ]
  },
  {
   "cell_type": "markdown",
   "id": "be8814e7-4967-473d-a859-5b5c1f3dddfd",
   "metadata": {},
   "source": [
    "## Installation\n",
    "\n",
    "```{.console}\n",
    "pip install gradio\n",
    "```\n",
    "\n",
    "To run it:\n",
    "```{.python}\n",
    "gradio app.py\n",
    "```"
   ]
  },
  {
   "cell_type": "markdown",
   "id": "e78b0a56-97a9-4023-87ae-b08905834d44",
   "metadata": {},
   "source": [
    "# Gradio: Basic App"
   ]
  },
  {
   "attachments": {},
   "cell_type": "markdown",
   "id": "8b3d3249-6edd-4eb6-8c48-ccb702924dc9",
   "metadata": {
    "execution": {
     "iopub.execute_input": "2024-05-17T09:32:10.874768Z",
     "iopub.status.busy": "2024-05-17T09:32:10.874135Z",
     "iopub.status.idle": "2024-05-17T09:32:10.884273Z",
     "shell.execute_reply": "2024-05-17T09:32:10.882330Z",
     "shell.execute_reply.started": "2024-05-17T09:32:10.874709Z"
    }
   },
   "source": [
    "## Gradio: Basic App\n",
    "\n",
    "```{.python}\n",
    "import gradio as gr\n",
    "\n",
    "def echo(input_text):\n",
    "    return input_text\n",
    "    \n",
    "demo = gr.Interface(\n",
    "    fn = echo,\n",
    "    inputs=[\"text\"],\n",
    "    outputs=[\"text\"],\n",
    ")\n",
    "\n",
    "demo.launch()\n",
    "```"
   ]
  },
  {
   "attachments": {},
   "cell_type": "markdown",
   "id": "d30e13c1-f923-4760-9c37-c8d8925ba00b",
   "metadata": {
    "editable": true,
    "slideshow": {
     "slide_type": ""
    },
    "tags": []
   },
   "source": [
    "## Gradio: Basic App\n",
    "\n",
    "```{.python}\n",
    "import gradio as gr\n",
    "\n",
    "demo = gr.Interface(\n",
    "    fn = lambda input_text: input_text,\n",
    "    inputs=[\"text\"],\n",
    "    outputs=[\"text\"],\n",
    ")\n",
    "\n",
    "demo.launch()\n",
    "```"
   ]
  },
  {
   "attachments": {},
   "cell_type": "markdown",
   "id": "8585d69d-8fee-41e0-9749-c6a65eb6fcc0",
   "metadata": {
    "editable": true,
    "slideshow": {
     "slide_type": ""
    },
    "tags": []
   },
   "source": [
    "## Gradio: Basic App\n",
    "\n",
    "```{.python}\n",
    "import gradio as gr\n",
    "\n",
    "demo = gr.Interface(\n",
    "    fn = lambda input_text: input_text,\n",
    "    inputs=[\"text\"],\n",
    "    outputs=[\"text\"],\n",
    "    title=\"Gradio app\",\n",
    "    description=\"This is a Gradio app\"\n",
    ")\n",
    "\n",
    "demo.launch()\n",
    "```"
   ]
  },
  {
   "cell_type": "markdown",
   "id": "f1c43ebf-1247-4cab-a790-005d997e1571",
   "metadata": {},
   "source": [
    "# Gradio: Greeting App"
   ]
  },
  {
   "attachments": {},
   "cell_type": "markdown",
   "id": "8113d00a-2b49-48d4-a49f-2caec3342b24",
   "metadata": {
    "editable": true,
    "slideshow": {
     "slide_type": ""
    },
    "tags": []
   },
   "source": [
    "## Gradio: Greeting App\n",
    "\n",
    "```{.python}\n",
    "import gradio as gr\n",
    "\n",
    "def greet(name, intensity):\n",
    "    return \"Hello, \" + name + \"!\" * int(intensity)\n",
    "\n",
    "demo = gr.Interface(\n",
    "    fn = greet,\n",
    "    inputs=[\"text\", \"slider\"],\n",
    "    outputs=[\"text\"],\n",
    "    title=\"Gradio app\",\n",
    "    description=\"This is a Gradio app\"\n",
    ")\n",
    "\n",
    "demo.launch()\n",
    "```"
   ]
  },
  {
   "cell_type": "markdown",
   "id": "3e862e49-674a-4651-bf4f-474fd1bb56be",
   "metadata": {},
   "source": [
    "# Gradio + Transformers: Installation"
   ]
  },
  {
   "attachments": {},
   "cell_type": "markdown",
   "id": "59a7d5a0-ec11-4a8c-843a-b24a023498f5",
   "metadata": {
    "editable": true,
    "slideshow": {
     "slide_type": ""
    },
    "tags": []
   },
   "source": [
    "## Gradio + Transformers\n",
    "\n",
    "### Installation\n",
    "\n",
    "```console\n",
    "pip install gradio transformers torch sentencepiece\n",
    "```\n",
    "\n",
    "To run it:\n",
    "\n",
    "```console\n",
    "gradio app.py\n",
    "```"
   ]
  },
  {
   "cell_type": "markdown",
   "id": "e5480a7f-adab-4df7-94fd-421ed8026447",
   "metadata": {},
   "source": [
    "# Gradio + Transformers App"
   ]
  },
  {
   "attachments": {},
   "cell_type": "markdown",
   "id": "6afff3aa-36c8-4bc2-bad9-a11ff274ad41",
   "metadata": {
    "editable": true,
    "jp-MarkdownHeadingCollapsed": true,
    "slideshow": {
     "slide_type": ""
    },
    "tags": []
   },
   "source": [
    "## Gradio + Transformers App\n",
    "\n",
    "```{.python}\n",
    "import gradio as gr\n",
    "from transformers import pipeline\n",
    "\n",
    "sentiment_pipeline = pipeline(\"sentiment-analysis\", \n",
    "    model=\"distilbert/distilbert-base-uncased-finetuned-sst-2-english\")\n",
    "demo = gr.Interface.from_pipeline(sentiment_pipeline)\n",
    "demo.launch()\n",
    "```"
   ]
  },
  {
   "attachments": {},
   "cell_type": "markdown",
   "id": "f138f8d7-e7ff-46d6-9892-2e79eadc07d8",
   "metadata": {
    "editable": true,
    "slideshow": {
     "slide_type": ""
    },
    "tags": []
   },
   "source": [
    "## Gradio + Transformers App\n",
    "\n",
    "```{.python}\n",
    "import gradio as gr\n",
    "from transformers import pipeline\n",
    "\n",
    "sentiment_pipeline = pipeline(\"sentiment-analysis\")\n",
    "demo = gr.Interface.from_pipeline(sentiment_pipeline)\n",
    "demo.launch()\n",
    "```"
   ]
  }
 ],
 "metadata": {
  "kernelspec": {
   "display_name": "Python 3 (ipykernel)",
   "language": "python",
   "name": "python3"
  },
  "language_info": {
   "codemirror_mode": {
    "name": "ipython",
    "version": 3
   },
   "file_extension": ".py",
   "mimetype": "text/x-python",
   "name": "python",
   "nbconvert_exporter": "python",
   "pygments_lexer": "ipython3",
   "version": "3.10.12"
  }
 },
 "nbformat": 4,
 "nbformat_minor": 5
}
